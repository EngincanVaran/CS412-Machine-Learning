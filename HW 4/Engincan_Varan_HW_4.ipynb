{
  "nbformat": 4,
  "nbformat_minor": 0,
  "metadata": {
    "colab": {
      "name": "Engincan Varan HW 4.ipynb",
      "provenance": [],
      "collapsed_sections": [],
      "toc_visible": true
    },
    "kernelspec": {
      "name": "python3",
      "display_name": "Python 3"
    }
  },
  "cells": [
    {
      "cell_type": "markdown",
      "metadata": {
        "id": "DTfDIhAYYjaX",
        "colab_type": "text"
      },
      "source": [
        "# Load the dataset"
      ]
    },
    {
      "cell_type": "code",
      "metadata": {
        "id": "yFpeyxi8aqIl",
        "colab_type": "code",
        "outputId": "dd284180-2691-484c-e754-25497222aaa7",
        "colab": {
          "base_uri": "https://localhost:8080/",
          "height": 304
        }
      },
      "source": [
        "import pandas as pd\n",
        "import numpy as np\n",
        "import matplotlib.pyplot as plt                   \n",
        "\n",
        "df = pd.read_csv('https://raw.githubusercontent.com/OpenClassrooms-Student-Center/Evaluate-Improve-Models/master/house_prices.csv')\n",
        "df.sample(5)"
      ],
      "execution_count": 0,
      "outputs": [
        {
          "output_type": "execute_result",
          "data": {
            "text/html": [
              "<div>\n",
              "<style scoped>\n",
              "    .dataframe tbody tr th:only-of-type {\n",
              "        vertical-align: middle;\n",
              "    }\n",
              "\n",
              "    .dataframe tbody tr th {\n",
              "        vertical-align: top;\n",
              "    }\n",
              "\n",
              "    .dataframe thead th {\n",
              "        text-align: right;\n",
              "    }\n",
              "</style>\n",
              "<table border=\"1\" class=\"dataframe\">\n",
              "  <thead>\n",
              "    <tr style=\"text-align: right;\">\n",
              "      <th></th>\n",
              "      <th>MS SubClass</th>\n",
              "      <th>Lot Frontage</th>\n",
              "      <th>Lot Area</th>\n",
              "      <th>Overall Qual</th>\n",
              "      <th>Overall Cond</th>\n",
              "      <th>Year Built</th>\n",
              "      <th>Year Remod/Add</th>\n",
              "      <th>Mas Vnr Area</th>\n",
              "      <th>BsmtFin SF 1</th>\n",
              "      <th>BsmtFin SF 2</th>\n",
              "      <th>Bsmt Unf SF</th>\n",
              "      <th>Total Bsmt SF</th>\n",
              "      <th>1st Flr SF</th>\n",
              "      <th>2nd Flr SF</th>\n",
              "      <th>Low Qual Fin SF</th>\n",
              "      <th>Gr Liv Area</th>\n",
              "      <th>Bsmt Full Bath</th>\n",
              "      <th>Bsmt Half Bath</th>\n",
              "      <th>Full Bath</th>\n",
              "      <th>Half Bath</th>\n",
              "      <th>Bedroom AbvGr</th>\n",
              "      <th>Kitchen AbvGr</th>\n",
              "      <th>TotRms AbvGrd</th>\n",
              "      <th>Fireplaces</th>\n",
              "      <th>Garage Yr Blt</th>\n",
              "      <th>Garage Cars</th>\n",
              "      <th>Garage Area</th>\n",
              "      <th>Wood Deck SF</th>\n",
              "      <th>Open Porch SF</th>\n",
              "      <th>Enclosed Porch</th>\n",
              "      <th>3Ssn Porch</th>\n",
              "      <th>Screen Porch</th>\n",
              "      <th>Pool Area</th>\n",
              "      <th>Misc Val</th>\n",
              "      <th>Mo Sold</th>\n",
              "      <th>Yr Sold</th>\n",
              "      <th>MS Zoning_A (agr)</th>\n",
              "      <th>MS Zoning_C (all)</th>\n",
              "      <th>MS Zoning_FV</th>\n",
              "      <th>MS Zoning_I (all)</th>\n",
              "      <th>...</th>\n",
              "      <th>Garage Qual_Po</th>\n",
              "      <th>Garage Qual_TA</th>\n",
              "      <th>Garage Cond_Ex</th>\n",
              "      <th>Garage Cond_Fa</th>\n",
              "      <th>Garage Cond_Gd</th>\n",
              "      <th>Garage Cond_Po</th>\n",
              "      <th>Garage Cond_TA</th>\n",
              "      <th>Paved Drive_N</th>\n",
              "      <th>Paved Drive_P</th>\n",
              "      <th>Paved Drive_Y</th>\n",
              "      <th>Pool QC_Ex</th>\n",
              "      <th>Pool QC_Fa</th>\n",
              "      <th>Pool QC_Gd</th>\n",
              "      <th>Pool QC_TA</th>\n",
              "      <th>Fence_GdPrv</th>\n",
              "      <th>Fence_GdWo</th>\n",
              "      <th>Fence_MnPrv</th>\n",
              "      <th>Fence_MnWw</th>\n",
              "      <th>Misc Feature_Elev</th>\n",
              "      <th>Misc Feature_Gar2</th>\n",
              "      <th>Misc Feature_Othr</th>\n",
              "      <th>Misc Feature_Shed</th>\n",
              "      <th>Misc Feature_TenC</th>\n",
              "      <th>Sale Type_COD</th>\n",
              "      <th>Sale Type_CWD</th>\n",
              "      <th>Sale Type_Con</th>\n",
              "      <th>Sale Type_ConLD</th>\n",
              "      <th>Sale Type_ConLI</th>\n",
              "      <th>Sale Type_ConLw</th>\n",
              "      <th>Sale Type_New</th>\n",
              "      <th>Sale Type_Oth</th>\n",
              "      <th>Sale Type_VWD</th>\n",
              "      <th>Sale Type_WD</th>\n",
              "      <th>Sale Condition_Abnorml</th>\n",
              "      <th>Sale Condition_AdjLand</th>\n",
              "      <th>Sale Condition_Alloca</th>\n",
              "      <th>Sale Condition_Family</th>\n",
              "      <th>Sale Condition_Normal</th>\n",
              "      <th>Sale Condition_Partial</th>\n",
              "      <th>SalesPrice</th>\n",
              "    </tr>\n",
              "  </thead>\n",
              "  <tbody>\n",
              "    <tr>\n",
              "      <th>716</th>\n",
              "      <td>70</td>\n",
              "      <td>65.0</td>\n",
              "      <td>11700</td>\n",
              "      <td>7</td>\n",
              "      <td>7</td>\n",
              "      <td>1880</td>\n",
              "      <td>2003</td>\n",
              "      <td>0.0</td>\n",
              "      <td>0.0</td>\n",
              "      <td>0.0</td>\n",
              "      <td>1240.0</td>\n",
              "      <td>1240.0</td>\n",
              "      <td>1320</td>\n",
              "      <td>1320</td>\n",
              "      <td>0</td>\n",
              "      <td>2640</td>\n",
              "      <td>0.0</td>\n",
              "      <td>0.0</td>\n",
              "      <td>1</td>\n",
              "      <td>1</td>\n",
              "      <td>4</td>\n",
              "      <td>1</td>\n",
              "      <td>8</td>\n",
              "      <td>1</td>\n",
              "      <td>1950.0</td>\n",
              "      <td>4.0</td>\n",
              "      <td>864.0</td>\n",
              "      <td>181</td>\n",
              "      <td>0</td>\n",
              "      <td>386</td>\n",
              "      <td>0</td>\n",
              "      <td>0</td>\n",
              "      <td>0</td>\n",
              "      <td>0</td>\n",
              "      <td>5</td>\n",
              "      <td>2009</td>\n",
              "      <td>0</td>\n",
              "      <td>0</td>\n",
              "      <td>0</td>\n",
              "      <td>0</td>\n",
              "      <td>...</td>\n",
              "      <td>0</td>\n",
              "      <td>1</td>\n",
              "      <td>0</td>\n",
              "      <td>0</td>\n",
              "      <td>0</td>\n",
              "      <td>0</td>\n",
              "      <td>1</td>\n",
              "      <td>1</td>\n",
              "      <td>0</td>\n",
              "      <td>0</td>\n",
              "      <td>0</td>\n",
              "      <td>0</td>\n",
              "      <td>0</td>\n",
              "      <td>0</td>\n",
              "      <td>0</td>\n",
              "      <td>0</td>\n",
              "      <td>0</td>\n",
              "      <td>0</td>\n",
              "      <td>0</td>\n",
              "      <td>0</td>\n",
              "      <td>0</td>\n",
              "      <td>0</td>\n",
              "      <td>0</td>\n",
              "      <td>0</td>\n",
              "      <td>0</td>\n",
              "      <td>0</td>\n",
              "      <td>0</td>\n",
              "      <td>0</td>\n",
              "      <td>0</td>\n",
              "      <td>0</td>\n",
              "      <td>0</td>\n",
              "      <td>0</td>\n",
              "      <td>1</td>\n",
              "      <td>0</td>\n",
              "      <td>0</td>\n",
              "      <td>0</td>\n",
              "      <td>0</td>\n",
              "      <td>1</td>\n",
              "      <td>0</td>\n",
              "      <td>265979</td>\n",
              "    </tr>\n",
              "    <tr>\n",
              "      <th>1108</th>\n",
              "      <td>60</td>\n",
              "      <td>81.0</td>\n",
              "      <td>10944</td>\n",
              "      <td>7</td>\n",
              "      <td>5</td>\n",
              "      <td>1994</td>\n",
              "      <td>1994</td>\n",
              "      <td>448.0</td>\n",
              "      <td>1000.0</td>\n",
              "      <td>0.0</td>\n",
              "      <td>223.0</td>\n",
              "      <td>1223.0</td>\n",
              "      <td>1223</td>\n",
              "      <td>904</td>\n",
              "      <td>0</td>\n",
              "      <td>2127</td>\n",
              "      <td>1.0</td>\n",
              "      <td>0.0</td>\n",
              "      <td>2</td>\n",
              "      <td>1</td>\n",
              "      <td>3</td>\n",
              "      <td>1</td>\n",
              "      <td>5</td>\n",
              "      <td>2</td>\n",
              "      <td>1994.0</td>\n",
              "      <td>2.0</td>\n",
              "      <td>525.0</td>\n",
              "      <td>171</td>\n",
              "      <td>132</td>\n",
              "      <td>0</td>\n",
              "      <td>0</td>\n",
              "      <td>0</td>\n",
              "      <td>0</td>\n",
              "      <td>0</td>\n",
              "      <td>8</td>\n",
              "      <td>2008</td>\n",
              "      <td>0</td>\n",
              "      <td>0</td>\n",
              "      <td>0</td>\n",
              "      <td>0</td>\n",
              "      <td>...</td>\n",
              "      <td>0</td>\n",
              "      <td>1</td>\n",
              "      <td>0</td>\n",
              "      <td>0</td>\n",
              "      <td>0</td>\n",
              "      <td>0</td>\n",
              "      <td>1</td>\n",
              "      <td>0</td>\n",
              "      <td>0</td>\n",
              "      <td>1</td>\n",
              "      <td>0</td>\n",
              "      <td>0</td>\n",
              "      <td>0</td>\n",
              "      <td>0</td>\n",
              "      <td>0</td>\n",
              "      <td>0</td>\n",
              "      <td>0</td>\n",
              "      <td>0</td>\n",
              "      <td>0</td>\n",
              "      <td>0</td>\n",
              "      <td>0</td>\n",
              "      <td>0</td>\n",
              "      <td>0</td>\n",
              "      <td>0</td>\n",
              "      <td>0</td>\n",
              "      <td>0</td>\n",
              "      <td>0</td>\n",
              "      <td>0</td>\n",
              "      <td>0</td>\n",
              "      <td>0</td>\n",
              "      <td>0</td>\n",
              "      <td>0</td>\n",
              "      <td>1</td>\n",
              "      <td>0</td>\n",
              "      <td>0</td>\n",
              "      <td>0</td>\n",
              "      <td>0</td>\n",
              "      <td>1</td>\n",
              "      <td>0</td>\n",
              "      <td>271000</td>\n",
              "    </tr>\n",
              "    <tr>\n",
              "      <th>1708</th>\n",
              "      <td>60</td>\n",
              "      <td>99.0</td>\n",
              "      <td>12099</td>\n",
              "      <td>8</td>\n",
              "      <td>5</td>\n",
              "      <td>2004</td>\n",
              "      <td>2004</td>\n",
              "      <td>388.0</td>\n",
              "      <td>970.0</td>\n",
              "      <td>0.0</td>\n",
              "      <td>166.0</td>\n",
              "      <td>1136.0</td>\n",
              "      <td>1136</td>\n",
              "      <td>1332</td>\n",
              "      <td>0</td>\n",
              "      <td>2468</td>\n",
              "      <td>1.0</td>\n",
              "      <td>0.0</td>\n",
              "      <td>2</td>\n",
              "      <td>1</td>\n",
              "      <td>4</td>\n",
              "      <td>1</td>\n",
              "      <td>10</td>\n",
              "      <td>1</td>\n",
              "      <td>2004.0</td>\n",
              "      <td>3.0</td>\n",
              "      <td>872.0</td>\n",
              "      <td>184</td>\n",
              "      <td>154</td>\n",
              "      <td>0</td>\n",
              "      <td>0</td>\n",
              "      <td>0</td>\n",
              "      <td>0</td>\n",
              "      <td>0</td>\n",
              "      <td>6</td>\n",
              "      <td>2007</td>\n",
              "      <td>0</td>\n",
              "      <td>0</td>\n",
              "      <td>0</td>\n",
              "      <td>0</td>\n",
              "      <td>...</td>\n",
              "      <td>0</td>\n",
              "      <td>1</td>\n",
              "      <td>0</td>\n",
              "      <td>0</td>\n",
              "      <td>0</td>\n",
              "      <td>0</td>\n",
              "      <td>1</td>\n",
              "      <td>0</td>\n",
              "      <td>0</td>\n",
              "      <td>1</td>\n",
              "      <td>0</td>\n",
              "      <td>0</td>\n",
              "      <td>0</td>\n",
              "      <td>0</td>\n",
              "      <td>0</td>\n",
              "      <td>0</td>\n",
              "      <td>0</td>\n",
              "      <td>0</td>\n",
              "      <td>0</td>\n",
              "      <td>0</td>\n",
              "      <td>0</td>\n",
              "      <td>0</td>\n",
              "      <td>0</td>\n",
              "      <td>0</td>\n",
              "      <td>0</td>\n",
              "      <td>0</td>\n",
              "      <td>0</td>\n",
              "      <td>0</td>\n",
              "      <td>0</td>\n",
              "      <td>0</td>\n",
              "      <td>0</td>\n",
              "      <td>0</td>\n",
              "      <td>1</td>\n",
              "      <td>0</td>\n",
              "      <td>0</td>\n",
              "      <td>0</td>\n",
              "      <td>0</td>\n",
              "      <td>1</td>\n",
              "      <td>0</td>\n",
              "      <td>354000</td>\n",
              "    </tr>\n",
              "    <tr>\n",
              "      <th>2508</th>\n",
              "      <td>160</td>\n",
              "      <td>24.0</td>\n",
              "      <td>2544</td>\n",
              "      <td>7</td>\n",
              "      <td>5</td>\n",
              "      <td>2005</td>\n",
              "      <td>2005</td>\n",
              "      <td>0.0</td>\n",
              "      <td>0.0</td>\n",
              "      <td>0.0</td>\n",
              "      <td>600.0</td>\n",
              "      <td>600.0</td>\n",
              "      <td>520</td>\n",
              "      <td>623</td>\n",
              "      <td>80</td>\n",
              "      <td>1223</td>\n",
              "      <td>0.0</td>\n",
              "      <td>0.0</td>\n",
              "      <td>2</td>\n",
              "      <td>1</td>\n",
              "      <td>2</td>\n",
              "      <td>1</td>\n",
              "      <td>4</td>\n",
              "      <td>0</td>\n",
              "      <td>2005.0</td>\n",
              "      <td>2.0</td>\n",
              "      <td>480.0</td>\n",
              "      <td>0</td>\n",
              "      <td>166</td>\n",
              "      <td>0</td>\n",
              "      <td>0</td>\n",
              "      <td>0</td>\n",
              "      <td>0</td>\n",
              "      <td>0</td>\n",
              "      <td>7</td>\n",
              "      <td>2006</td>\n",
              "      <td>0</td>\n",
              "      <td>0</td>\n",
              "      <td>1</td>\n",
              "      <td>0</td>\n",
              "      <td>...</td>\n",
              "      <td>0</td>\n",
              "      <td>1</td>\n",
              "      <td>0</td>\n",
              "      <td>0</td>\n",
              "      <td>0</td>\n",
              "      <td>0</td>\n",
              "      <td>1</td>\n",
              "      <td>0</td>\n",
              "      <td>0</td>\n",
              "      <td>1</td>\n",
              "      <td>0</td>\n",
              "      <td>0</td>\n",
              "      <td>0</td>\n",
              "      <td>0</td>\n",
              "      <td>0</td>\n",
              "      <td>0</td>\n",
              "      <td>0</td>\n",
              "      <td>0</td>\n",
              "      <td>0</td>\n",
              "      <td>0</td>\n",
              "      <td>0</td>\n",
              "      <td>0</td>\n",
              "      <td>0</td>\n",
              "      <td>0</td>\n",
              "      <td>0</td>\n",
              "      <td>0</td>\n",
              "      <td>0</td>\n",
              "      <td>0</td>\n",
              "      <td>0</td>\n",
              "      <td>0</td>\n",
              "      <td>0</td>\n",
              "      <td>0</td>\n",
              "      <td>1</td>\n",
              "      <td>0</td>\n",
              "      <td>0</td>\n",
              "      <td>0</td>\n",
              "      <td>0</td>\n",
              "      <td>1</td>\n",
              "      <td>0</td>\n",
              "      <td>149900</td>\n",
              "    </tr>\n",
              "    <tr>\n",
              "      <th>1809</th>\n",
              "      <td>20</td>\n",
              "      <td>65.0</td>\n",
              "      <td>7441</td>\n",
              "      <td>7</td>\n",
              "      <td>5</td>\n",
              "      <td>2006</td>\n",
              "      <td>2006</td>\n",
              "      <td>170.0</td>\n",
              "      <td>0.0</td>\n",
              "      <td>0.0</td>\n",
              "      <td>1461.0</td>\n",
              "      <td>1461.0</td>\n",
              "      <td>1486</td>\n",
              "      <td>0</td>\n",
              "      <td>0</td>\n",
              "      <td>1486</td>\n",
              "      <td>0.0</td>\n",
              "      <td>0.0</td>\n",
              "      <td>2</td>\n",
              "      <td>0</td>\n",
              "      <td>3</td>\n",
              "      <td>1</td>\n",
              "      <td>7</td>\n",
              "      <td>0</td>\n",
              "      <td>2006.0</td>\n",
              "      <td>2.0</td>\n",
              "      <td>566.0</td>\n",
              "      <td>0</td>\n",
              "      <td>32</td>\n",
              "      <td>0</td>\n",
              "      <td>0</td>\n",
              "      <td>0</td>\n",
              "      <td>0</td>\n",
              "      <td>0</td>\n",
              "      <td>6</td>\n",
              "      <td>2007</td>\n",
              "      <td>0</td>\n",
              "      <td>0</td>\n",
              "      <td>0</td>\n",
              "      <td>0</td>\n",
              "      <td>...</td>\n",
              "      <td>0</td>\n",
              "      <td>1</td>\n",
              "      <td>0</td>\n",
              "      <td>0</td>\n",
              "      <td>0</td>\n",
              "      <td>0</td>\n",
              "      <td>1</td>\n",
              "      <td>0</td>\n",
              "      <td>0</td>\n",
              "      <td>1</td>\n",
              "      <td>0</td>\n",
              "      <td>0</td>\n",
              "      <td>0</td>\n",
              "      <td>0</td>\n",
              "      <td>0</td>\n",
              "      <td>0</td>\n",
              "      <td>0</td>\n",
              "      <td>0</td>\n",
              "      <td>0</td>\n",
              "      <td>0</td>\n",
              "      <td>0</td>\n",
              "      <td>0</td>\n",
              "      <td>0</td>\n",
              "      <td>0</td>\n",
              "      <td>0</td>\n",
              "      <td>0</td>\n",
              "      <td>0</td>\n",
              "      <td>0</td>\n",
              "      <td>0</td>\n",
              "      <td>0</td>\n",
              "      <td>0</td>\n",
              "      <td>0</td>\n",
              "      <td>1</td>\n",
              "      <td>0</td>\n",
              "      <td>0</td>\n",
              "      <td>0</td>\n",
              "      <td>0</td>\n",
              "      <td>1</td>\n",
              "      <td>0</td>\n",
              "      <td>181000</td>\n",
              "    </tr>\n",
              "  </tbody>\n",
              "</table>\n",
              "<p>5 rows × 305 columns</p>\n",
              "</div>"
            ],
            "text/plain": [
              "      MS SubClass  Lot Frontage  ...  Sale Condition_Partial  SalesPrice\n",
              "716            70          65.0  ...                       0      265979\n",
              "1108           60          81.0  ...                       0      271000\n",
              "1708           60          99.0  ...                       0      354000\n",
              "2508          160          24.0  ...                       0      149900\n",
              "1809           20          65.0  ...                       0      181000\n",
              "\n",
              "[5 rows x 305 columns]"
            ]
          },
          "metadata": {
            "tags": []
          },
          "execution_count": 39
        }
      ]
    },
    {
      "cell_type": "markdown",
      "metadata": {
        "id": "vHC8A8Io8oQG",
        "colab_type": "text"
      },
      "source": [
        "# \"Garage Area\" and \"SalesPrice\" features are selected to analyze."
      ]
    },
    {
      "cell_type": "code",
      "metadata": {
        "id": "pq6dFg6thq97",
        "colab_type": "code",
        "outputId": "d3f860af-1345-46bf-9d73-33f07efd7319",
        "colab": {
          "base_uri": "https://localhost:8080/",
          "height": 204
        }
      },
      "source": [
        "new_df = df[['Garage Area','SalesPrice']] # code comes here\n",
        "new_df.sample(5)   #to make sure"
      ],
      "execution_count": 0,
      "outputs": [
        {
          "output_type": "execute_result",
          "data": {
            "text/html": [
              "<div>\n",
              "<style scoped>\n",
              "    .dataframe tbody tr th:only-of-type {\n",
              "        vertical-align: middle;\n",
              "    }\n",
              "\n",
              "    .dataframe tbody tr th {\n",
              "        vertical-align: top;\n",
              "    }\n",
              "\n",
              "    .dataframe thead th {\n",
              "        text-align: right;\n",
              "    }\n",
              "</style>\n",
              "<table border=\"1\" class=\"dataframe\">\n",
              "  <thead>\n",
              "    <tr style=\"text-align: right;\">\n",
              "      <th></th>\n",
              "      <th>Garage Area</th>\n",
              "      <th>SalesPrice</th>\n",
              "    </tr>\n",
              "  </thead>\n",
              "  <tbody>\n",
              "    <tr>\n",
              "      <th>1571</th>\n",
              "      <td>512.0</td>\n",
              "      <td>241500</td>\n",
              "    </tr>\n",
              "    <tr>\n",
              "      <th>1553</th>\n",
              "      <td>487.0</td>\n",
              "      <td>13100</td>\n",
              "    </tr>\n",
              "    <tr>\n",
              "      <th>1253</th>\n",
              "      <td>484.0</td>\n",
              "      <td>146000</td>\n",
              "    </tr>\n",
              "    <tr>\n",
              "      <th>2159</th>\n",
              "      <td>531.0</td>\n",
              "      <td>185000</td>\n",
              "    </tr>\n",
              "    <tr>\n",
              "      <th>2211</th>\n",
              "      <td>264.0</td>\n",
              "      <td>238000</td>\n",
              "    </tr>\n",
              "  </tbody>\n",
              "</table>\n",
              "</div>"
            ],
            "text/plain": [
              "      Garage Area  SalesPrice\n",
              "1571        512.0      241500\n",
              "1553        487.0       13100\n",
              "1253        484.0      146000\n",
              "2159        531.0      185000\n",
              "2211        264.0      238000"
            ]
          },
          "metadata": {
            "tags": []
          },
          "execution_count": 40
        }
      ]
    },
    {
      "cell_type": "markdown",
      "metadata": {
        "id": "TpEvfXkM9r_2",
        "colab_type": "text"
      },
      "source": [
        "## Convert the data into numpy arrays of two variables, X and y."
      ]
    },
    {
      "cell_type": "code",
      "metadata": {
        "id": "e9CMMob_hzLe",
        "colab_type": "code",
        "outputId": "04fffb3e-cc41-4c80-a7a3-7ecbe3439609",
        "colab": {
          "base_uri": "https://localhost:8080/",
          "height": 51
        }
      },
      "source": [
        "X = np.array(new_df[['Garage Area']])           # code comes here)\n",
        "y = np.array(new_df[[\"SalesPrice\"]])            # code comes here)\n",
        "print(X.shape) # Vewing the shape of X\n",
        "print(y.shape) # Vewing the shape of y"
      ],
      "execution_count": 0,
      "outputs": [
        {
          "output_type": "stream",
          "text": [
            "(2930, 1)\n",
            "(2930, 1)\n"
          ],
          "name": "stdout"
        }
      ]
    },
    {
      "cell_type": "markdown",
      "metadata": {
        "id": "JjnOjQWL_HVv",
        "colab_type": "text"
      },
      "source": [
        "## Split train and test data with 0.2 ratio."
      ]
    },
    {
      "cell_type": "code",
      "metadata": {
        "id": "Qbhe6KTZaTqR",
        "colab_type": "code",
        "colab": {}
      },
      "source": [
        "from sklearn.model_selection import train_test_split\n",
        "(x_train, x_test, y_train, y_test) = train_test_split(X,y,test_size=0.2) # code comes here"
      ],
      "execution_count": 0,
      "outputs": []
    },
    {
      "cell_type": "markdown",
      "metadata": {
        "id": "l2d820kV_zO7",
        "colab_type": "text"
      },
      "source": [
        "# Linear Regression\n",
        "Train a linear regression."
      ]
    },
    {
      "cell_type": "code",
      "metadata": {
        "id": "XRb1ZUTbaoy0",
        "colab_type": "code",
        "outputId": "47b0f985-2690-43c9-cbdf-fcddc8780efe",
        "colab": {
          "base_uri": "https://localhost:8080/",
          "height": 34
        }
      },
      "source": [
        "from sklearn import linear_model \n",
        "\n",
        "regressor = linear_model.LinearRegression()     # code comes here\n",
        "\n",
        "regressor.fit(x_train, y_train)                 # code comes here"
      ],
      "execution_count": 0,
      "outputs": [
        {
          "output_type": "execute_result",
          "data": {
            "text/plain": [
              "LinearRegression(copy_X=True, fit_intercept=True, n_jobs=None, normalize=False)"
            ]
          },
          "metadata": {
            "tags": []
          },
          "execution_count": 43
        }
      ]
    },
    {
      "cell_type": "markdown",
      "metadata": {
        "id": "v670cHDcAGwn",
        "colab_type": "text"
      },
      "source": [
        "## Calculate train and test R2."
      ]
    },
    {
      "cell_type": "code",
      "metadata": {
        "id": "YzG3jkxgaxL0",
        "colab_type": "code",
        "outputId": "f378de34-50ef-413d-808d-b866bbafa96e",
        "colab": {
          "base_uri": "https://localhost:8080/",
          "height": 51
        }
      },
      "source": [
        "from sklearn.metrics import r2_score\n",
        "\n",
        "y_pred = regressor.predict(x_train)                 # code comes here\n",
        "print(\"Train:\", r2_score(y_train,y_pred))           # code comes here\n",
        "\n",
        "y_pred = regressor.predict(x_test)                  # code comes here\n",
        "print(\"Test:\", r2_score(y_test,y_pred))             # code comes here"
      ],
      "execution_count": 0,
      "outputs": [
        {
          "output_type": "stream",
          "text": [
            "Train: 0.42146105689364743\n",
            "Test: 0.35547211068663587\n"
          ],
          "name": "stdout"
        }
      ]
    },
    {
      "cell_type": "markdown",
      "metadata": {
        "id": "CuKDdtxSvH86",
        "colab_type": "text"
      },
      "source": [
        "## Print the bias and the slope."
      ]
    },
    {
      "cell_type": "code",
      "metadata": {
        "id": "Rqr6u4clvN7I",
        "colab_type": "code",
        "outputId": "bf25b1d6-2228-4821-93b4-848606f83be5",
        "colab": {
          "base_uri": "https://localhost:8080/",
          "height": 51
        }
      },
      "source": [
        "print('Regressor coefficient or slope:', regressor.coef_[0][0])          # code comes here\n",
        "print('Interception point with axis:', regressor.intercept_[0])          # code comes here"
      ],
      "execution_count": 0,
      "outputs": [
        {
          "output_type": "stream",
          "text": [
            "Regressor coeffient or slope: 243.15503241812982\n",
            "Interception point with axis: 65960.99071000557\n"
          ],
          "name": "stdout"
        }
      ]
    },
    {
      "cell_type": "markdown",
      "metadata": {
        "id": "cWtykiPdCXyY",
        "colab_type": "text"
      },
      "source": [
        "## Plot the test set with scatter plot and add the linear regression model line.\n",
        "Remember linear regression recitation."
      ]
    },
    {
      "cell_type": "code",
      "metadata": {
        "id": "1I_pXHajCtbA",
        "colab_type": "code",
        "outputId": "ce6e5d61-6ac6-4e26-ce3e-6f61a72857e4",
        "colab": {
          "base_uri": "https://localhost:8080/",
          "height": 295
        }
      },
      "source": [
        "# Plot a graph with X_test vs y_test\n",
        "plt.scatter(x_test,y_test, color=\"blue\")\n",
        "# Regressior line showing\n",
        "plt.plot(x_train,regressor.predict(x_train), color=\"red\", linewidth=4)\n",
        "plt.title('Regression(Test Set)')\n",
        "plt.xlabel('Garage Area')\n",
        "plt.ylabel('Sales Price')\n",
        "plt.show()"
      ],
      "execution_count": 0,
      "outputs": [
        {
          "output_type": "display_data",
          "data": {
            "image/png": "[encoded data removed]",
            "text/plain": [
              "<Figure size 432x288 with 1 Axes>"
            ]
          },
          "metadata": {
            "tags": [],
            "needs_background": "light"
          }
        }
      ]
    },
    {
      "cell_type": "markdown",
      "metadata": {
        "id": "8I4MO2KALY7t",
        "colab_type": "text"
      },
      "source": [
        "# Multiple Linear Regression\n",
        "Select all features."
      ]
    },
    {
      "cell_type": "code",
      "metadata": {
        "id": "t05kOqWgM2jZ",
        "colab_type": "code",
        "outputId": "ea7a80a4-99f0-4811-d85b-591132c45157",
        "colab": {
          "base_uri": "https://localhost:8080/",
          "height": 51
        }
      },
      "source": [
        "X = df.iloc[:,:304]  # code comes here\n",
        "y = df[[\"SalesPrice\"]]# code comes here\n",
        "print(X.shape) # Vewing the shape of X\n",
        "print(y.shape) # Vewing the shape of y"
      ],
      "execution_count": 0,
      "outputs": [
        {
          "output_type": "stream",
          "text": [
            "(2930, 304)\n",
            "(2930, 1)\n"
          ],
          "name": "stdout"
        }
      ]
    },
    {
      "cell_type": "markdown",
      "metadata": {
        "id": "NOfkzavRNr_p",
        "colab_type": "text"
      },
      "source": [
        "## Rescale the input features. Use MinMaxScaler."
      ]
    },
    {
      "cell_type": "code",
      "metadata": {
        "id": "CgerTDdWN3ZV",
        "colab_type": "code",
        "colab": {}
      },
      "source": [
        "from sklearn.preprocessing import MinMaxScaler\n",
        "scaler = MinMaxScaler()\n",
        "X = scaler.fit_transform(X)                   # code comes here"
      ],
      "execution_count": 0,
      "outputs": []
    },
    {
      "cell_type": "markdown",
      "metadata": {
        "id": "LPWhiLEQOJXV",
        "colab_type": "text"
      },
      "source": [
        "## Train test split."
      ]
    },
    {
      "cell_type": "code",
      "metadata": {
        "id": "hWHQsWD-OR0X",
        "colab_type": "code",
        "colab": {}
      },
      "source": [
        "x_train, x_test, y_train, y_test = train_test_split(X,y,test_size=0.2)         # code comes here"
      ],
      "execution_count": 0,
      "outputs": []
    },
    {
      "cell_type": "markdown",
      "metadata": {
        "id": "ta9ugqFEO-3h",
        "colab_type": "text"
      },
      "source": [
        "## Fit regression model."
      ]
    },
    {
      "cell_type": "code",
      "metadata": {
        "id": "tE3FFQAJOz45",
        "colab_type": "code",
        "outputId": "10708666-37d8-4332-b83b-8cbc8000e45b",
        "colab": {
          "base_uri": "https://localhost:8080/",
          "height": 34
        }
      },
      "source": [
        "regressor = linear_model.LinearRegression()         # code comes here\n",
        "regressor.fit(x_train,y_train)                      # code comes here"
      ],
      "execution_count": 0,
      "outputs": [
        {
          "output_type": "execute_result",
          "data": {
            "text/plain": [
              "LinearRegression(copy_X=True, fit_intercept=True, n_jobs=None, normalize=False)"
            ]
          },
          "metadata": {
            "tags": []
          },
          "execution_count": 50
        }
      ]
    },
    {
      "cell_type": "markdown",
      "metadata": {
        "id": "ai5eB9elPNOY",
        "colab_type": "text"
      },
      "source": [
        "## Calculate train and test R2."
      ]
    },
    {
      "cell_type": "code",
      "metadata": {
        "id": "pbJWBEnRPOg_",
        "colab_type": "code",
        "outputId": "503c8bad-ac8a-4949-da78-950c0bb6bdd8",
        "colab": {
          "base_uri": "https://localhost:8080/",
          "height": 51
        }
      },
      "source": [
        "y_pred = regressor.predict(x_train)\n",
        "print(\"Train:\", r2_score(y_train,y_pred))           # code comes here\n",
        "\n",
        "y_pred = regressor.predict(x_test)                  # code comes here\n",
        "print(\"Test:\", r2_score(y_test,y_pred))           # code comes here"
      ],
      "execution_count": 0,
      "outputs": [
        {
          "output_type": "stream",
          "text": [
            "Train: 0.9347186459931469\n",
            "Test: -3.0013667439899635e+17\n"
          ],
          "name": "stdout"
        }
      ]
    },
    {
      "cell_type": "markdown",
      "metadata": {
        "id": "iZTYM-76v__6",
        "colab_type": "text"
      },
      "source": [
        "## Print the regression coefficients."
      ]
    },
    {
      "cell_type": "code",
      "metadata": {
        "id": "tw10OFDUwDtY",
        "colab_type": "code",
        "outputId": "112e6e3e-0dac-4e89-e63b-668f652ca33e",
        "colab": {
          "base_uri": "https://localhost:8080/",
          "height": 1000
        }
      },
      "source": [
        "print('Regressor coeffients for multiple linear regression:', regressor.coef_[0])          # code comes here)"
      ],
      "execution_count": 0,
      "outputs": [
        {
          "output_type": "stream",
          "text": [
            "Regressor coeffients for multiple linear regression: [-1.06455223e+04  1.66987443e+04  1.19278927e+05  5.85444713e+04\n",
            "  4.41405396e+04  3.86666317e+04  5.42380923e+03  4.04458484e+04\n",
            " -2.20712468e+15 -5.96752705e+14 -9.13508728e+14  2.38935716e+15\n",
            " -1.99613356e+15 -8.65787819e+14 -4.46100842e+14  2.22547300e+15\n",
            "  6.32176747e+03 -3.60854301e+02  1.59167186e+04  3.69108761e+03\n",
            " -2.61469007e+04 -3.94701083e+04  1.20117063e+04  2.96057125e+04\n",
            "  4.53358664e+03  1.44617269e+04  2.73779602e+04  1.22814560e+04\n",
            " -4.57801402e+03  1.55042520e+04 -7.25023167e+03  2.35798569e+04\n",
            " -3.13488062e+05  2.71647266e+03 -4.08252344e+03 -2.89109375e+03\n",
            "  4.59252650e+13  4.59252650e+13  4.59252650e+13  4.59252650e+13\n",
            "  4.59252650e+13  4.59252650e+13  4.59252650e+13  7.75498768e+13\n",
            "  7.75498768e+13  1.04893750e+03 -3.59668750e+03 -2.37812435e+14\n",
            " -2.37812435e+14 -2.37812435e+14 -2.37812435e+14  2.97938800e+13\n",
            "  2.97938800e+13  2.97938800e+13  2.97938800e+13 -3.21358759e+14\n",
            " -3.21358759e+14 -9.27638174e+13  6.60973357e+14  6.60973357e+14\n",
            "  6.60973357e+14  6.60973357e+14  6.60973357e+14 -8.75421027e+13\n",
            " -8.75421027e+13 -8.75421027e+13  3.45872392e+13  3.45872392e+13\n",
            "  3.45872392e+13  3.45872392e+13  3.45872392e+13  3.45872392e+13\n",
            "  3.45872392e+13  3.45872392e+13  3.45872392e+13  3.45872392e+13\n",
            "  3.45872393e+13  3.45872392e+13  3.45872392e+13  3.45872392e+13\n",
            "  3.45872392e+13  3.45872392e+13  3.45872392e+13  3.45872392e+13\n",
            "  3.45872392e+13  3.45872392e+13  3.45872392e+13  3.45872392e+13\n",
            "  3.45872392e+13  3.45872392e+13  3.45872392e+13  3.45872392e+13\n",
            "  3.45872392e+13  3.45872392e+13  2.91655345e+14  2.91655345e+14\n",
            "  2.91655345e+14  2.91655345e+14  2.91655345e+14  2.91655345e+14\n",
            "  2.91655345e+14  2.91655345e+14  2.91655345e+14  1.18743214e+14\n",
            "  1.18743214e+14  1.18743214e+14  1.18743214e+14  1.18743213e+14\n",
            " -1.92435111e+13 -2.25211004e+13  1.18743214e+14  1.46856830e+15\n",
            "  1.46856830e+15  1.46856830e+15  1.46856830e+15  1.46856830e+15\n",
            "  1.12634773e+15  1.12634773e+15  1.12634773e+15  1.12634773e+15\n",
            "  1.12634773e+15  1.12634773e+15  1.12634773e+15  1.12634773e+15\n",
            "  4.64140894e+14  4.64140894e+14  4.64140894e+14  4.64140894e+14\n",
            "  4.64140894e+14  4.64140894e+14  8.80899379e+13  8.80899388e+13\n",
            "  8.80899388e+13  8.80899388e+13  8.80899388e+13  8.80899388e+13\n",
            "  8.80899388e+13  8.80899388e+13  3.28496486e+14  3.28496486e+14\n",
            "  3.28496486e+14  3.28496486e+14  3.28496486e+14  3.28496486e+14\n",
            "  3.28496486e+14  3.28496486e+14  3.28496486e+14  3.28496486e+14\n",
            " -1.66518860e+13  2.27159997e+12  3.28496486e+14  3.28496486e+14\n",
            "  3.28496486e+14  3.28496486e+14  1.75029978e+14  1.75029978e+14\n",
            "  1.75029978e+14  1.75029978e+14  1.75029978e+14  1.75029978e+14\n",
            "  1.75029978e+14  1.75029978e+14  1.75029978e+14  1.75029978e+14\n",
            "  1.75029978e+14  2.92731125e+12  1.75029978e+14  1.75029978e+14\n",
            "  1.75029978e+14  1.75029978e+14  1.75029978e+14 -3.23921094e+03\n",
            " -3.46762500e+03 -9.40808438e+04  1.46412500e+03  2.89121875e+03\n",
            " -2.26917263e+15 -2.26917263e+15 -2.26917263e+15 -2.26917263e+15\n",
            "  3.02361716e+14  3.02361716e+14  3.02361716e+14  3.02361716e+14\n",
            "  3.02361716e+14 -1.05512678e+15 -1.05512678e+15 -1.05512678e+15\n",
            " -1.05512678e+15 -1.05512678e+15 -1.05512678e+15  5.67902713e+14\n",
            "  5.67902713e+14  5.67902713e+14  5.67902713e+14  5.67902713e+14\n",
            "  5.11788564e+14  5.11788564e+14  5.11788564e+14  5.11788564e+14\n",
            "  5.11788564e+14  1.13485000e+04  2.52547500e+04  5.45968750e+03\n",
            "  6.08650000e+03 -1.07969128e+15 -1.07969128e+15 -1.07969128e+15\n",
            " -1.07969128e+15 -1.07969128e+15 -1.07969128e+15  2.25130312e+04\n",
            "  1.71132422e+04  3.35461328e+04  1.65880312e+04  1.55543125e+04\n",
            "  2.02797500e+04  1.36668981e+14  1.36668981e+14  1.36668981e+14\n",
            "  1.36668981e+14  1.36668981e+14  1.36668981e+14  2.30298440e+13\n",
            "  2.30298440e+13  2.30298440e+13  2.30298440e+13  2.30298440e+13\n",
            " -2.83938396e+14 -2.83938396e+14  1.23541390e+14  1.23541390e+14\n",
            "  1.23541390e+14  1.23541390e+14  1.23541390e+14 -4.66172657e+14\n",
            " -4.66172657e+14 -4.66172657e+14 -4.66172657e+14 -4.66172657e+14\n",
            "  5.07315476e+14  5.07315476e+14  5.07315476e+14  5.07315476e+14\n",
            "  5.07315476e+14  5.07315476e+14 -2.66820674e+11  5.07315476e+14\n",
            "  2.55921875e+02 -7.52381250e+03 -5.74781250e+03 -3.85332031e+03\n",
            " -6.01787500e+03 -2.13170938e+04 -1.84700312e+04 -9.84739062e+03\n",
            " -1.75714062e+04 -2.09345391e+04 -1.72263984e+04 -4.66706757e+11\n",
            " -4.66706759e+11 -4.66706756e+11  3.24014571e+14  3.24014571e+14\n",
            "  3.24014571e+14  3.24014571e+14  3.24014571e+14 -3.23547864e+14\n",
            " -3.23547864e+14 -3.23547864e+14 -3.23547864e+14 -3.23547864e+14\n",
            "  5.53239548e+14  5.53239548e+14  5.53239548e+14  1.57199113e+05\n",
            " -6.10150125e+12  3.83758764e+05  1.77985223e+05 -2.19492188e+02\n",
            "  9.42132812e+02  9.37500000e+02 -4.64756250e+03 -5.16353058e+05\n",
            "  6.74785547e+03  1.86632422e+04  9.11062500e+02  6.10150143e+12\n",
            "  9.70136212e+13  9.70136212e+13  9.70136212e+13  9.70136212e+13\n",
            "  9.70136212e+13  9.70136212e+13  9.70136212e+13  9.70136212e+13\n",
            "  9.70136211e+13  9.70136212e+13  9.67119466e+13  9.67119466e+13\n",
            "  9.67119466e+13  9.67119466e+13  9.67119466e+13  9.67119466e+13]\n"
          ],
          "name": "stdout"
        }
      ]
    },
    {
      "cell_type": "markdown",
      "metadata": {
        "id": "PtwgWJvwQfo-",
        "colab_type": "text"
      },
      "source": [
        "# Ridge Regression\n",
        "https://scikit-learn.org/stable/modules/generated/sklearn.model_selection.KFold.html\n",
        "\n",
        "https://scikit-learn.org/stable/modules/generated/sklearn.linear_model.RidgeCV.html\n",
        "\n",
        "## Use cross-validation to estimate alpha. Set the fold size to 5."
      ]
    },
    {
      "cell_type": "code",
      "metadata": {
        "id": "niasM1bHSO0r",
        "colab_type": "code",
        "outputId": "3b6fc0ad-f78b-4621-fbe9-e49978c29017",
        "colab": {
          "base_uri": "https://localhost:8080/",
          "height": 68
        }
      },
      "source": [
        "from sklearn.model_selection import KFold\n",
        "from sklearn.linear_model import RidgeCV\n",
        "kfold = KFold(n_splits=5, shuffle=True,random_state=5)          # code comes here\n",
        "\n",
        "alphas=[1e-3, 1e-2, 1e-1, 1, 2, 5, 8, 10]\n",
        "# Create and fit model\n",
        "model_rcv = RidgeCV(alphas=alphas, cv=kfold)                    # code comes here\n",
        "model_rcv.fit(x_train,y_train)                                  # code comes here"
      ],
      "execution_count": 0,
      "outputs": [
        {
          "output_type": "execute_result",
          "data": {
            "text/plain": [
              "RidgeCV(alphas=array([1.e-03, 1.e-02, 1.e-01, 1.e+00, 2.e+00, 5.e+00, 8.e+00, 1.e+01]),\n",
              "        cv=KFold(n_splits=5, random_state=5, shuffle=True), fit_intercept=True,\n",
              "        gcv_mode=None, normalize=False, scoring=None, store_cv_values=False)"
            ]
          },
          "metadata": {
            "tags": []
          },
          "execution_count": 53
        }
      ]
    },
    {
      "cell_type": "markdown",
      "metadata": {
        "id": "WuXiTAzbTw-E",
        "colab_type": "text"
      },
      "source": [
        "## Calculate the train and test R2."
      ]
    },
    {
      "cell_type": "code",
      "metadata": {
        "id": "uljtYcwlUasT",
        "colab_type": "code",
        "outputId": "3e1e04dc-768d-4075-ac62-13025607a06d",
        "colab": {
          "base_uri": "https://localhost:8080/",
          "height": 51
        }
      },
      "source": [
        "y_pred = model_rcv.predict(x_train)\n",
        "print(\"Train:\", r2_score(y_train,y_pred))           # code comes here\n",
        "\n",
        "y_pred = model_rcv.predict(x_test)                  # code comes here\n",
        "print(\"Test:\", r2_score(y_test,y_pred))           # code comes here"
      ],
      "execution_count": 0,
      "outputs": [
        {
          "output_type": "stream",
          "text": [
            "Train: 0.9083847482786301\n",
            "Test: 0.9004485869152923\n"
          ],
          "name": "stdout"
        }
      ]
    },
    {
      "cell_type": "markdown",
      "metadata": {
        "id": "h8tDKPJHUkuG",
        "colab_type": "text"
      },
      "source": [
        "## Print the best alpha."
      ]
    },
    {
      "cell_type": "code",
      "metadata": {
        "id": "1EUQMEgnUr0k",
        "colab_type": "code",
        "outputId": "e72192ca-a400-4859-89de-ab2d9ea6f476",
        "colab": {
          "base_uri": "https://localhost:8080/",
          "height": 34
        }
      },
      "source": [
        "print(\"Alpha:\", model_rcv.alpha_)                                # code comes here)"
      ],
      "execution_count": 0,
      "outputs": [
        {
          "output_type": "stream",
          "text": [
            "Alpha: 5.0\n"
          ],
          "name": "stdout"
        }
      ]
    },
    {
      "cell_type": "markdown",
      "metadata": {
        "id": "hK4tYYscvyJG",
        "colab_type": "text"
      },
      "source": [
        "## Print the regression coefficients."
      ]
    },
    {
      "cell_type": "code",
      "metadata": {
        "id": "KBcaia_5v5fF",
        "colab_type": "code",
        "outputId": "dab30395-e898-4f0b-d133-8695c6a5eefc",
        "colab": {
          "base_uri": "https://localhost:8080/",
          "height": 1000
        }
      },
      "source": [
        "print('Regressor coeffients for ridge regression:', model_rcv.coef_[0])            # code comes here)"
      ],
      "execution_count": 0,
      "outputs": [
        {
          "output_type": "stream",
          "text": [
            "Regressor coeffients for ridge regression: [-8.55688261e+03 -2.24947003e+03  2.51985809e+04  6.11176862e+04\n",
            "  3.05688283e+04  1.54705088e+04  6.42802448e+03  3.43299527e+04\n",
            "  3.11874100e+04  1.08561215e+04  4.41285001e+02  3.16888749e+04\n",
            "  5.88293295e+04  4.46935789e+04  3.22251349e+03  7.08001945e+04\n",
            "  1.84925753e+04 -4.22889476e+03  3.46719489e+04  1.03066466e+04\n",
            "  5.21474078e+03 -1.06430026e+04  2.76039916e+04  2.62569504e+04\n",
            " -2.13425715e+01  3.07977027e+04  2.28947048e+04  1.45086270e+04\n",
            " -5.71374758e+02  9.26247548e+03  9.93966295e+02  2.43749213e+04\n",
            " -7.71184313e+03 -3.70657101e+04 -3.64406632e+03 -3.33848397e+03\n",
            " -1.82839984e+03 -5.68257070e+03  2.33294624e+02 -2.60934320e+02\n",
            "  8.21284455e+03  1.77685964e+03 -2.45109395e+03 -6.89490487e+03\n",
            "  6.89490487e+03  4.84664559e+02 -1.39201362e+03  1.68655272e+02\n",
            "  6.99713687e+03 -7.70670144e+03  5.40909306e+02 -1.06234496e+04\n",
            "  8.82596117e+03 -1.65645494e+03  3.45394335e+03  5.19709310e+03\n",
            " -5.19709310e+03  0.00000000e+00  7.92691872e+01  8.09412797e+03\n",
            " -5.75925948e+03 -2.24880715e+03 -1.65330527e+02 -1.73054843e+03\n",
            "  1.26550014e+03  4.65048284e+02 -7.84608609e+02 -4.03922156e+02\n",
            "  4.87910740e+03 -5.03188531e+03 -5.83882507e+03 -8.12895793e+03\n",
            "  9.93666676e+03 -2.11621979e+04 -1.33519655e+04 -7.89896430e+02\n",
            "  3.28784748e+04 -1.08502142e+04 -1.45300962e+03 -5.04350976e+03\n",
            " -1.20301037e+04 -1.29110349e+04  5.07486353e+03 -1.32275464e+04\n",
            "  3.31216058e+04  2.75835193e+04 -1.40228982e+04 -9.87709047e+03\n",
            " -1.03868714e+04 -9.46428718e+03  1.29801466e+04  3.34291095e+04\n",
            " -3.47728186e+03 -1.64738722e+03 -4.14310289e+03 -6.14105059e+03\n",
            "  4.83020056e+03  1.28577067e+04  2.79348550e+03 -8.29775507e+03\n",
            "  1.33712696e+03  2.00057349e+03 -5.23718466e+03  2.37786084e+03\n",
            " -1.09440936e+03  3.93333056e+02  2.60181565e+04 -2.82268659e+04\n",
            "  0.00000000e+00  0.00000000e+00  5.31924927e+02  1.38193991e+04\n",
            "  7.03990064e+03 -1.22585127e+03 -1.26234499e+04 -7.00999850e+03\n",
            " -1.48698338e+03  2.59970945e+03  4.01617332e+03  2.26338989e+03\n",
            "  3.51465013e+03 -7.40084707e+03 -2.45624671e+02 -3.26046768e+03\n",
            "  7.48250821e+02  1.04634148e+02  1.61069389e+03  2.95872544e+03\n",
            " -6.10888681e+03  6.86582506e+02 -5.16248146e+04  3.16149137e+03\n",
            "  2.91389450e+03  1.15828543e+02  1.83067810e+03 -8.95667749e+02\n",
            " -2.88572029e+03  4.73843102e+04 -4.00909196e+03 -7.17687561e+02\n",
            "  7.25568782e+03  1.88456879e+04  1.03300063e+03 -2.73805848e+03\n",
            " -4.61154497e+03 -1.27369050e+03 -1.82116560e+03 -3.88524788e+02\n",
            "  0.00000000e+00  0.00000000e+00 -1.86438893e+03 -5.05603845e+03\n",
            " -4.34492989e+03 -3.09255241e+02  1.52559488e+03  3.28533061e+03\n",
            " -3.35633692e+02 -5.03501701e+03 -5.96396992e+02  2.85523026e+03\n",
            "  2.30847983e+03 -1.67754849e+03  3.66482678e+03 -3.10416385e+02\n",
            " -1.30654394e+03  0.00000000e+00 -5.24018635e+03 -5.34825972e+03\n",
            "  5.38688172e+03  3.39542673e+03 -2.57176825e+03 -3.10184346e+03\n",
            " -1.43102123e+03 -5.70331540e+03  1.70821753e+03  2.80851952e+03\n",
            "  1.69904412e+04 -3.59961598e+03 -4.66386832e+03 -8.72695692e+03\n",
            "  4.97722457e+02 -3.07062209e+03  2.86751726e+03 -3.27253336e+03\n",
            "  2.97791573e+03 -2.71846390e+03 -3.12182914e+02  1.45786199e+03\n",
            " -6.04086535e+03  7.87251471e+03 -2.58864539e+02  1.88822841e+04\n",
            " -2.37679819e+03 -1.60548424e+03 -4.35736107e+01 -3.25285032e+03\n",
            " -1.13100232e+03  2.95602275e+03  2.47989212e+03  4.67562610e+03\n",
            "  2.62303910e+03  3.56510970e+03  2.04097876e+04 -2.46445223e+03\n",
            " -4.00349453e+03  3.16980007e+03  2.69991415e+03  6.75878764e+03\n",
            " -1.65563140e+03  3.26025731e+02  3.04681562e+02  3.09187679e+03\n",
            " -9.61602727e+02  1.09264703e+04 -1.38935781e+03 -1.68979876e+03\n",
            "  1.30066432e+03 -1.14922646e+03 -1.96380524e+03  9.22829018e+03\n",
            "  1.26218383e+03 -7.61065234e+03  2.33210019e+02  3.88722552e+03\n",
            " -1.02189813e+03  1.79617515e+03 -5.39138943e+03  7.29886888e+02\n",
            "  1.36499669e+02 -1.36499669e+02 -1.11250889e+03 -8.38655367e+02\n",
            "  1.12188144e+03  1.68396595e+03 -8.54683131e+02  2.16722421e+04\n",
            " -1.01117508e+04 -4.44616395e+03  1.41382748e+03 -8.52815490e+03\n",
            " -5.38677350e+03 -5.93910886e+03  2.29145233e+03  3.64091902e+03\n",
            "  2.13170847e+02 -3.53553326e+03  0.00000000e+00  8.71587343e+03\n",
            "  1.38828186e+04 -2.86773393e+03  6.76806914e+02 -1.96729370e+03\n",
            "  1.15643889e+03 -5.88638974e+03  5.01361626e+02  3.48381000e+03\n",
            "  8.28531586e+02 -3.84699835e+03 -2.76179728e+03 -1.05096722e+02\n",
            " -3.39195337e+03 -1.43323161e+02  1.17148598e+04 -1.06841323e+04\n",
            "  8.40510967e+03 -5.35461068e+03 -7.72159976e+03 -3.06541422e+03\n",
            " -3.75064494e+02  1.66756828e+02 -3.70957065e+03  3.34291929e+03\n",
            " -8.12492136e+02 -2.62176841e+02  1.07466898e+03  2.58377410e+04\n",
            " -1.33974292e+03 -3.30682028e+04  7.94494311e+03  2.16996772e+03\n",
            "  9.44732438e+02 -1.99256594e+02 -2.33492750e+03 -4.89796067e+04\n",
            "  1.33963954e+04  4.91030281e+03  1.53659653e+03 -1.33974292e+03\n",
            " -5.53411133e+03 -8.57676872e+02  1.12446779e+04  8.28019588e+02\n",
            " -2.46491562e+03 -2.22372279e+03  2.76719766e+02  5.09211589e+03\n",
            " -2.06756767e+03 -4.29353890e+03 -8.83296199e+03  6.06100467e+03\n",
            "  7.44577134e+03 -7.29226836e+03  1.01418729e+03  1.60426705e+03]\n"
          ],
          "name": "stdout"
        }
      ]
    }
  ]
}