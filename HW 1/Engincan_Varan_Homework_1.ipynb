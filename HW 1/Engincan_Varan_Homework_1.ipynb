{
  "nbformat": 4,
  "nbformat_minor": 0,
  "metadata": {
    "colab": {
      "name": "Engincan Varan Homework 1.ipynb",
      "provenance": [],
      "collapsed_sections": [],
      "toc_visible": true
    },
    "kernelspec": {
      "name": "python3",
      "display_name": "Python 3"
    },
    "accelerator": "GPU"
  },
  "cells": [
    {
      "cell_type": "markdown",
      "metadata": {
        "id": "DTfDIhAYYjaX",
        "colab_type": "text"
      },
      "source": [
        "# Load the dataset"
      ]
    },
    {
      "cell_type": "code",
      "metadata": {
        "id": "HGi6c-0uZSeB",
        "colab_type": "code",
        "outputId": "3608d86e-6d49-43bd-8956-4d622500dc3d",
        "colab": {
          "base_uri": "https://localhost:8080/",
          "height": 34
        }
      },
      "source": [
        "from google.colab import drive\n",
        "drive.mount('/content/drive')"
      ],
      "execution_count": 54,
      "outputs": [
        {
          "output_type": "stream",
          "text": [
            "Drive already mounted at /content/drive; to attempt to forcibly remount, call drive.mount(\"/content/drive\", force_remount=True).\n"
          ],
          "name": "stdout"
        }
      ]
    },
    {
      "cell_type": "code",
      "metadata": {
        "id": "yFpeyxi8aqIl",
        "colab_type": "code",
        "colab": {}
      },
      "source": [
        "# You can find the data under https://drive.google.com/drive/folders/1e550az93U3_kfRBbVY5PZnMKYwGYmHqi?usp=sharing\n",
        "\n",
        "import pandas as pd\n",
        "import numpy as np\n",
        "\n",
        "train_data = pd.read_csv(\"/content/drive/My Drive/HW1/train_data.csv\")     # One line of code\n",
        "train_label = pd.read_csv(\"/content/drive/My Drive/HW1/train_label.csv\")   # One line of code\n",
        "\n",
        "test_data = pd.read_csv(\"/content/drive/My Drive/HW1/test_data.csv\")       # One line of code\n",
        "test_label = pd.read_csv(\"/content/drive/My Drive/HW1/test_label.csv\")      # One line of code"
      ],
      "execution_count": 0,
      "outputs": []
    },
    {
      "cell_type": "code",
      "metadata": {
        "id": "OZXqzZlXBIN0",
        "colab_type": "code",
        "outputId": "4a522050-3428-47ca-c83f-f3a22eb632b1",
        "colab": {
          "base_uri": "https://localhost:8080/",
          "height": 255
        }
      },
      "source": [
        "# show random samples from the training data\n",
        "print(train_data.shape)\n",
        "print(test_data.shape)\n",
        "print(train_data.sample(np.random.randint(1,14)))    # One line of code"
      ],
      "execution_count": 56,
      "outputs": [
        {
          "output_type": "stream",
          "text": [
            "(793, 49)\n",
            "(207, 49)\n",
            "      id  duration  ...  job_unskilled resident  own_telephone_yes\n",
            "519  520         6  ...                       0                  0\n",
            "168  169        24  ...                       0                  1\n",
            "231  232         9  ...                       1                  0\n",
            "44    45        48  ...                       1                  0\n",
            "54    55        36  ...                       0                  1\n",
            "248  249        24  ...                       0                  0\n",
            "462  463        12  ...                       0                  0\n",
            "152  153        36  ...                       0                  0\n",
            "103  104         9  ...                       0                  1\n",
            "\n",
            "[9 rows x 49 columns]\n"
          ],
          "name": "stdout"
        }
      ]
    },
    {
      "cell_type": "markdown",
      "metadata": {
        "id": "wQIVU4-zXpE_",
        "colab_type": "text"
      },
      "source": [
        "# Train Decision Tree with default parameters"
      ]
    },
    {
      "cell_type": "code",
      "metadata": {
        "id": "oLznLl_lXYZf",
        "colab_type": "code",
        "outputId": "bcc03d9e-06d3-4cdf-e5a0-14085be57e5c",
        "colab": {
          "base_uri": "https://localhost:8080/",
          "height": 34
        }
      },
      "source": [
        "from sklearn.tree import DecisionTreeClassifier\n",
        "\n",
        "# Train decision tree using the whole training data with **entropy** criteria\n",
        "\n",
        "dt = DecisionTreeClassifier(criterion='entropy')              # One line of code\n",
        "dt = dt.fit(train_data, train_label)                          # One line of code\n",
        "\n",
        "\n",
        "# Estimate the prediction of test data\n",
        "test_pred = dt.predict(test_data)                              # One line of code\n",
        "\n",
        "# Calculate accuracy of test data\n",
        "from sklearn.metrics import accuracy_score\n",
        "TestAcc = accuracy_score(test_label, test_pred)                 # One line of code\n",
        "print(\"Testing Accuracy = %.5f%%\" % (TestAcc * 100))"
      ],
      "execution_count": 57,
      "outputs": [
        {
          "output_type": "stream",
          "text": [
            "Testing Accuracy = 68.59903%\n"
          ],
          "name": "stdout"
        }
      ]
    },
    {
      "cell_type": "markdown",
      "metadata": {
        "id": "cqgNZYUMXv8X",
        "colab_type": "text"
      },
      "source": [
        "# FineTune Decision Tree parameters\n",
        "\n",
        "1- Spliting dataset into train and validation "
      ]
    },
    {
      "cell_type": "code",
      "metadata": {
        "id": "nWJxk-zjy0Kv",
        "colab_type": "code",
        "colab": {}
      },
      "source": [
        "# Split training data to 70% training and 30% validation\n",
        "from sklearn.model_selection import train_test_split\n",
        "x_train, x_val, y_train, y_val = train_test_split(train_data, train_label, train_size = 0.7)   # One line of code"
      ],
      "execution_count": 0,
      "outputs": []
    },
    {
      "cell_type": "markdown",
      "metadata": {
        "id": "cqws-kTZYHoG",
        "colab_type": "text"
      },
      "source": [
        "2- FineTune minimum sample split"
      ]
    },
    {
      "cell_type": "code",
      "metadata": {
        "id": "O1DvpmCCJXTb",
        "colab_type": "code",
        "outputId": "b090f232-7abd-4f2b-bfe0-c75f855fc355",
        "colab": {
          "base_uri": "https://localhost:8080/",
          "height": 265
        }
      },
      "source": [
        "min_samples_splits = range(2, 100)\n",
        "\n",
        "train_results = []\n",
        "val_results = []\n",
        "for min_samples_split in min_samples_splits:\n",
        "  \n",
        "  # Fit the tree using the 70% portion of the training data\n",
        "\n",
        "  dt = DecisionTreeClassifier(criterion='entropy', min_samples_split= min_samples_split)\n",
        "  dt = dt.fit(x_train, y_train)\n",
        "\n",
        "  # Evaluate on Training set\n",
        "  train_pred = dt.predict(x_train)                    # One line of code\n",
        "  train_acc = accuracy_score(y_train, train_pred )    # One line of code\n",
        "  train_results.append(train_acc)\n",
        "   \n",
        "  # Evaluate on Validation set\n",
        "  val_pred = dt.predict(x_val)                        # One line of code\n",
        "  val_acc = accuracy_score(y_val, val_pred)\n",
        "  val_results.append(val_acc)\n",
        "  \n",
        "# Ploting\n",
        "import matplotlib.pyplot as plt\n",
        "\n",
        "plt.plot(min_samples_splits, train_results, 'b')\n",
        "plt.plot(min_samples_splits, val_results,'r')\n",
        "plt.show()"
      ],
      "execution_count": 59,
      "outputs": [
        {
          "output_type": "display_data",
          "data": {
            "image/png": "[encoded data removed]",
            "text/plain": [
              "<Figure size 432x288 with 1 Axes>"
            ]
          },
          "metadata": {
            "tags": []
          }
        }
      ]
    },
    {
      "cell_type": "code",
      "metadata": {
        "id": "akVAE3MbL7bE",
        "colab_type": "code",
        "outputId": "af151569-38ea-44bf-af12-f4bc95bab12c",
        "colab": {
          "base_uri": "https://localhost:8080/",
          "height": 34
        }
      },
      "source": [
        "# Choose the best minimum split sample based on the plot\n",
        "val_results2 = val_results[20:] #to prevent overfitting\n",
        "Best_minSampl = min_samples_splits[val_results2.index(max(val_results2))]  # One line of code\n",
        "#print(Best_minSampl)\n",
        "\n",
        "# Train decision tree using the full training data and the best minimum split sample\n",
        "dt = DecisionTreeClassifier(criterion='entropy', min_samples_split= Best_minSampl)  # One line of code\n",
        "dt = dt.fit(x_train, y_train)                                                       # One line of code\n",
        "  \n",
        "\n",
        "# Estimate the prediction of the test data\n",
        "test_pred = dt.predict(test_data)                     # One line of code\n",
        "\n",
        "# Calculate accuracy of test data\n",
        "TestAccFineTuned = accuracy_score(test_label,test_pred)            # One line of code\n",
        "print(\"Testing Accuracy = %.5f%%\" % (TestAccFineTuned * 100))"
      ],
      "execution_count": 60,
      "outputs": [
        {
          "output_type": "stream",
          "text": [
            "Testing Accuracy = 72.46377%\n"
          ],
          "name": "stdout"
        }
      ]
    },
    {
      "cell_type": "markdown",
      "metadata": {
        "id": "VciE0lfYKhya",
        "colab_type": "text"
      },
      "source": [
        "# Now, apply the same procedure but using KNN instead of decision tree \n",
        "\n",
        "# For finetuning, find the best value of K to use with this dataset."
      ]
    },
    {
      "cell_type": "code",
      "metadata": {
        "id": "EdBaXNKoLBcL",
        "colab_type": "code",
        "outputId": "6a3d0e1b-d9a9-4511-adce-3fc3df267bd4",
        "colab": {
          "base_uri": "https://localhost:8080/",
          "height": 340
        }
      },
      "source": [
        "# Write your code here\n",
        "\n",
        "from sklearn.neighbors import KNeighborsClassifier\n",
        "\n",
        "# initialize the values of k to be a list of odd numbers between 1 and 30\n",
        "kVals = range(1, 30, 2)\n",
        "\n",
        "# Save the accuracies of each value of kVal in [accuracies] variable\n",
        "# hint: you can use accuracies.append(...) function inside the loop\n",
        "accuracies = []\n",
        "\n",
        "#(x_train, x_val, y_train, y_val) = train_test_split(train_data, train_label, test_size=0.3)\n",
        "\n",
        "# loop over values of k for the k-Nearest Neighbor classifier\n",
        "for k in kVals:\n",
        "  # Follow what we did in decision tree part\n",
        "\n",
        "  knn = KNeighborsClassifier(n_neighbors=k)\n",
        "  knn.fit(x_train, y_train.values.ravel())\n",
        "\n",
        "  score = knn.score(x_val,y_val)\n",
        "  print(\"For k = %d, validation accuracy = %.5f%%\" % (k, score * 100))\n",
        "  accuracies.append(score)\n",
        "\n",
        "# Train KNN using the full training data with the best K that you found\n",
        "BestK = kVals[accuracies.index(max(accuracies))]\n",
        "#print(BestK)\n",
        "\n",
        "print(\"\\n\")\n",
        "\n",
        "knn = KNeighborsClassifier(n_neighbors=BestK)\n",
        "knn.fit(x_train, y_train.values.ravel())\n",
        "ValScore = knn.score(x_val,y_val)\n",
        "print(\"Validation Accuracy = %.5f%%, for the best k=%d\" % (ValScore * 100,BestK))\n",
        "\n",
        "# Testing\n",
        "TestScore = knn.score(test_data,test_label)\n",
        "print(\"Test Accuracy = %.5f%%, for k=%d\" % (TestScore * 100,BestK))\n"
      ],
      "execution_count": 61,
      "outputs": [
        {
          "output_type": "stream",
          "text": [
            "For k = 1, validation accuracy = 59.66387%\n",
            "For k = 3, validation accuracy = 60.92437%\n",
            "For k = 5, validation accuracy = 63.86555%\n",
            "For k = 7, validation accuracy = 63.44538%\n",
            "For k = 9, validation accuracy = 63.44538%\n",
            "For k = 11, validation accuracy = 64.28571%\n",
            "For k = 13, validation accuracy = 65.12605%\n",
            "For k = 15, validation accuracy = 66.80672%\n",
            "For k = 17, validation accuracy = 69.32773%\n",
            "For k = 19, validation accuracy = 68.90756%\n",
            "For k = 21, validation accuracy = 69.32773%\n",
            "For k = 23, validation accuracy = 68.90756%\n",
            "For k = 25, validation accuracy = 68.48739%\n",
            "For k = 27, validation accuracy = 68.48739%\n",
            "For k = 29, validation accuracy = 68.90756%\n",
            "\n",
            "\n",
            "Validation Accuracy = 69.32773%, for the best k=17\n",
            "Test Accuracy = 71.01449%, for k=17\n"
          ],
          "name": "stdout"
        }
      ]
    },
    {
      "cell_type": "markdown",
      "metadata": {
        "id": "zMEdOIlJQBin",
        "colab_type": "text"
      },
      "source": [
        "# Bonus\n",
        "\n",
        "# Apply gridsearch using decision tree on any hyperparameter(s) of your choice, you have to beat your previous obtained accuracies to get the bonus\n"
      ]
    },
    {
      "cell_type": "code",
      "metadata": {
        "id": "J-9TxVbXQCw7",
        "colab_type": "code",
        "outputId": "d4a4c11c-010b-4d3f-9bbd-79dd0e5576e5",
        "colab": {
          "base_uri": "https://localhost:8080/",
          "height": 408
        }
      },
      "source": [
        "# Write your code here\n",
        "from sklearn.model_selection import GridSearchCV\n",
        "\n",
        "#DecisionTreeClassifier(ccp_alpha=0.0, class_weight=None, criterion='gini',\n",
        "#                      max_depth=None, max_features=None, max_leaf_nodes=None,\n",
        "#                      min_impurity_decrease=0.0, min_impurity_split=None,\n",
        "#                      min_samples_leaf=1, min_samples_split=2,\n",
        "#                      min_weight_fraction_leaf=0.0, presort='deprecated',\n",
        "#                      random_state=None, splitter='best')\n",
        "#'min_weight_fraction_leaf': [0.0,0.2,0.25,0.3,0.5]}\n",
        "#'criterion' : ['gini', 'entropy']\n",
        "#'min_samples_leaf' : range(2,30)\n",
        "#'min_weight_fraction_leaf' : [0.0,0.2,0.5]\n",
        "\n",
        "#tempHyper = [[ [0.0 for k in range(20) ] for i in range(100)] for j in range(20)]\n",
        "tempHyper = [ [0.0 for i in range(100)] for j in range(20)]\n",
        "\n",
        "maxDepth = range(1,20)\n",
        "minSplit = range(2,100)\n",
        "\n",
        "for i in maxDepth:\n",
        "  for k in minSplit:\n",
        "    dt = DecisionTreeClassifier('entropy', max_depth=i, min_samples_split=k)\n",
        "    dt.fit(x_train,y_train)\n",
        "    \n",
        "    tempPred = dt.predict(x_val)\n",
        "    score = accuracy_score(y_val,tempPred)\n",
        "    tempHyper[i][k] = score\n",
        "\n",
        "#print(tempHyper)\n",
        "\n",
        "maxScore = np.amax(tempHyper)\n",
        "sols = np.argwhere(tempHyper==maxScore)\n",
        "#print(sols)\n",
        "depth = sols[0][0]\n",
        "split = sols[0][1]\n",
        "print(\"*** BRUTE-FORCE ***\")\n",
        "print(\"Validation Accuracy = %.5f%%\" % (maxScore * 100))\n",
        "\n",
        "#testing the data with my approach\n",
        "dt = DecisionTreeClassifier('entropy', max_depth=depth, min_samples_split=split)\n",
        "dt = dt.fit(train_data,train_label)\n",
        "testPred = dt.predict(test_data)\n",
        "maxScore = accuracy_score(test_label,test_pred)\n",
        "print(\"Testing Accuracy = %.5f%%\" % (maxScore * 100))\n",
        "\n",
        "#GridSearch Algorithm\n",
        "grid_param= { 'max_depth': range(1,21), 'min_samples_split': range(2,100) }  \n",
        "dt = DecisionTreeClassifier('entropy')\n",
        "dt = GridSearchCV(dt, grid_param)\n",
        "dt = dt.fit(train_data,train_label)\n",
        "#dt = dt.fit(x_train,y_train)\n",
        "\n",
        "GridPred = dt.predict(test_data)\n",
        "\n",
        "GridAcc = dt.best_score_\n",
        "print(\"\\n*** Grid Search ***\")\n",
        "print(\"Testing Accuracy = %.5f%%\" % (GridAcc * 100))\n",
        "\n",
        "ResultAccuracies = [GridAcc, TestAcc, TestAccFineTuned, TestScore, maxScore]\n",
        "if(max(ResultAccuracies) == GridAcc or max(ResultAccuracies) == maxScore):\n",
        "  if(maxScore > GridAcc):\n",
        "    print(\"\\nBONUS is Acquired by using Brute-Force!\")\n",
        "  else:\n",
        "    print(\"\\nBONUS is Acquired by using GridSearch!\")\n",
        "else:\n",
        "  print(\"\\n!!! FAIL - NO BONUS !!!\")\n",
        "\n",
        "#results for all accuracies\n",
        "print(\"\\n*** ALL RESULTS ***\")\n",
        "print(\"Default Decision Tree Accuracy = \\t%.5f%%\" % (TestAcc * 100))\n",
        "print(\"Fine-Tuned Decision Tree Accuracy = \\t%.5f%%\" % (TestAccFineTuned * 100))\n",
        "print(\"KNN Accuracy = \\t\\t\\t\\t%.5f%%\" % (TestScore * 100))\n",
        "print(\"GridSearch Accuracy = \\t\\t\\t%.5f%%\" % (GridAcc * 100))\n",
        "print(\"Brute-Force Accuracy = \\t\\t\\t%.5f%%\" % (maxScore * 100))\n",
        "\n",
        "#what changes we did with the GridSearch vs Mine\n",
        "print(\"\\n*** CHANGES with GridSearch ***\\t\\t\\t\\tGrid vs. Brute-Force\")\n",
        "print(\"Changed hyperparameter is --> max_depth = \\t\\t\" + str(dt.best_estimator_.max_depth) + \" vs. \" + str(depth))\n",
        "print(\"Changed hyperparameter is --> min_samples_split = \\t\" + str(dt.best_estimator_.min_samples_split) + \" vs. \" + str(split))\n",
        "\n",
        "#to see the best values found in our code before\n",
        "print(\"\\n*** DATA ***\")\n",
        "print(\"Best (found) min_samples_split = \" + str(Best_minSampl))\n",
        "print(\"Best (found) k-NN = \" + str(BestK))\n",
        "\n"
      ],
      "execution_count": 62,
      "outputs": [
        {
          "output_type": "stream",
          "text": [
            "*** BRUTE-FORCE ***\n",
            "Validation Accuracy = 70.16807%\n",
            "Testing Accuracy = 72.46377%\n",
            "\n",
            "*** Grid Search ***\n",
            "Testing Accuracy (gridDefault) = 73.51962%\n",
            "\n",
            "BONUS is Acquired by using GridSearch!\n",
            "\n",
            "*** ALL RESULTS ***\n",
            "Default Decision Tree Accuracy = \t68.59903%\n",
            "Fine-Tuned Decision Tree Accuracy = \t72.46377%\n",
            "KNN Accuracy = \t\t\t\t71.01449%\n",
            "GridSearch Accuracy = \t\t\t73.51962%\n",
            "Brute-Force Accuracy = \t\t\t72.46377%\n",
            "\n",
            "*** CHANGES with GridSearch ***\t\t\t\tGrid vs. Brute-Force\n",
            "Changed hyperparameter is --> max_depth = \t\t7 vs. 6\n",
            "Changed hyperparameter is --> min_samples_split = \t66 vs. 32\n",
            "\n",
            "*** DATA ***\n",
            "Best (found) min_samples_split = 22\n",
            "Best (found) k-NN = 17\n"
          ],
          "name": "stdout"
        }
      ]
    },
    {
      "cell_type": "markdown",
      "metadata": {
        "id": "1VCH10cwnAU-",
        "colab_type": "text"
      },
      "source": [
        "# Report: Write a summary of your approach to this problem; this should be like an abstract of a paper or the executive summary (you aim for clarity and passing on information, not going to details about known facts such as what decision trees are, assuming they are known to people in your research area).\n",
        "\n",
        "Must include statements such as:\n",
        "\n",
        "\n",
        "*   Include the problem definition: 1-2 lines\n",
        "*   Talk about train/val/test sets, size and how split.\n",
        "*   State what your test results are with the chosen method, parameters: e.g. \"We have obtained the best results with the ….. classifier (parameters=....) , giving classification accuracy of …% on test data….\"\n",
        "*   Comment on the speed of the algorithms and anything else that you deem important/interesting (e.g. confusion matrix)\n",
        "\n"
      ]
    },
    {
      "cell_type": "markdown",
      "metadata": {
        "id": "72KDasqHnt1T",
        "colab_type": "text"
      },
      "source": [
        "# Write your report in this cell\n",
        "\n",
        "  The problem is to decide, based on the given data of some people, wheter the person is a good (reliable) or bad (unreliable). We are trying to fit an accurate decision tree that will help to decide later data of the people. There are 49 different inputs (features) such as credit amount, age, retirement info etc. and there is only one output (label) which are good or bad.\n",
        "\n",
        "  The number of data our training set (train_data) is 793 and our test size (test_data) is 207. First, we used all of the training data to create a decision tree with the criterion hyperparameter \"entropy\". Then, when we are finished with the basic decision tree, we test our data with the data set test_data and our accuracy usually stands between 65-70%. \n",
        "\n",
        "  Then, we want to improve our accuracy by changing the min_samples_split hyperparameter of the DecisionTreeClassifier. In order to increase our accuracy, we wanted to try different values between 2-100 for min_samples_split, and we created a for loop to iterate over the values of min_samples_split and an array to store the accuracies of the train data and validation data. The important thing here is splitting randomly our whole training data into 2 parts which are traing data (x_train) and validation data (x_val) with the ratio of 0.7 to 0.3. The training data is to train the decision tree and the rest is to validate the training results. After the for loop, we find the best validation accuracy with given min_samples_split. In that part, you can see a a little code which is to prevent overfitting. In the array of validation accuracies, I wanted to pick a values that maximizes the validation accuracy but not overfitting. So, I started the search from the index 20. When we find the best validation accuracy and the best resulted min_samples_split, we used it to fine-tune our decision tree. We created a decision tree with the criterion hyperparameter as \"entropy\" and min_samples_split as Best_minSampl. Then, we fit our test_data into our fine-tuned decision tree, and get an accuracy a bit better then the basic decision tree. The accuracy of the fine-tuned decision tree stands between 67-71%. \n",
        "  \n",
        "  Thirdly, we used k-Nearest Neigbor algorithm to find an accuracy. So, with different k values ranging between 1-30, we used the same data sets we splitted before. We used training data to train our model with the changing hyperparameter k. Then, we validate the model and store the accuracies in order to compater later on to decide which k value gives the best accuracy. When to loop ends, we find the best k value that gives best validation accuracy and we test our data with the found k value. The accuracy of k-NN algorithm usually stands between 70-72%. Slightly better than the fine-tuned decision tree.\n",
        "\n",
        "  Last but not least, as a bonus, we used grid-search algorithm to find what hyperparameters we could change to get a better result than the fine-tuned decision tree. For this part, I used a brute-force algorithm to change 2 hyperparameters, max_depth of the tree and min_samples_split, simultaneously. The brute-force algorithm is running 2 for loops and changing the hyperparameters and stores the training accuracies. Then, finding the best accuracy and the hyperparameters that satisfy the accuracy. In the end, we create a decision tree with the brute-force found max_depth and min_samples_split hyperparameters. The running time is O(nk) where n and k denotes the ranges of tried hyperparameter values. The accuracy of this usually stands between 66-69%, which is not efficient at all. However, the real algorithm, grid search, finds the best hyperparameters slower but the accuracy is much higher than the basic decision tree. In the grid search algorithm just changing the max_depth and min_samples_split hyperparatmeters increase our accuracy like 5% most of the time.\n",
        "\n",
        "  Finally, in order to obtain the best test accuracy, one should use the grid search algorithm with the changing hyperparameters max_depth and min_samples_split. The worst accuracy obtained by the basic decision tree with no given hyperparameters. (entropy is not included) K-NN and fine-tuned decision tree algorithms are not that complex or does not take long time but the accuracies are a bit lower than the grid search algorithm. The accuracy of the tests are inversely proportional to the complexity of the algorithm. \n",
        "  \n",
        "#To see the all accuracies and the hyperparameter values, please see the last coding block, which states nearly everything.\n",
        "\n",
        "\n",
        "\n",
        "\n",
        "\n",
        "\n",
        "\n",
        "\n"
      ]
    }
  ]
}