{
  "nbformat": 4,
  "nbformat_minor": 0,
  "metadata": {
    "colab": {
      "name": "hw5_NN_toSolve.ipynb",
      "provenance": [],
      "collapsed_sections": []
    },
    "kernelspec": {
      "name": "python3",
      "display_name": "Python 3"
    },
    "accelerator": "GPU"
  },
  "cells": [
    {
      "cell_type": "markdown",
      "metadata": {
        "id": "cFo4pCdV1t50",
        "colab_type": "text"
      },
      "source": [
        "### Make sure GPU is on\n",
        "\n",
        "https://medium.com/deep-learning-turkey/google-colab-free-gpu-tutorial-e113627b9f5d"
      ]
    },
    {
      "cell_type": "code",
      "metadata": {
        "id": "fr-4gka21hVl",
        "colab_type": "code",
        "colab": {}
      },
      "source": [
        "import tensorflow as tf\n",
        "tf.test.gpu_device_name()"
      ],
      "execution_count": 0,
      "outputs": []
    },
    {
      "cell_type": "code",
      "metadata": {
        "id": "M2D-1er639_i",
        "colab_type": "code",
        "colab": {}
      },
      "source": [
        "import tensorflow_datasets as tfds\n",
        "import random \n",
        "import matplotlib.pyplot as plt\n",
        "import matplotlib.image as mpimg\n",
        "from skimage.util import montage"
      ],
      "execution_count": 0,
      "outputs": []
    },
    {
      "cell_type": "markdown",
      "metadata": {
        "id": "yq6sqcq94-4R",
        "colab_type": "text"
      },
      "source": [
        "### (10 pts.) Prepare the datasets"
      ]
    },
    {
      "cell_type": "markdown",
      "metadata": {
        "id": "Cwzg8Ui15Hmo",
        "colab_type": "text"
      },
      "source": [
        "#### load the plant_village data from tensorflow_datasets. Split by %80-10-10 train-val-test using split= input.\n",
        "\n",
        "#### Please check https://www.tensorflow.org/datasets/splits"
      ]
    },
    {
      "cell_type": "code",
      "metadata": {
        "id": "xFtXuDgdKiEP",
        "colab_type": "code",
        "colab": {}
      },
      "source": [
        "raw_test = tfds.load('plant_village', #### fill here\n",
        "raw_val = tfds.load('plant_village', #### fill here\n",
        "raw_train = tfds.load('plant_village', #### fill here"
      ],
      "execution_count": 0,
      "outputs": []
    },
    {
      "cell_type": "markdown",
      "metadata": {
        "id": "jww8rPXg5Tjc",
        "colab_type": "text"
      },
      "source": [
        "#### Normalize each image into [0,1] range, shuffle and minibatch 128."
      ]
    },
    {
      "cell_type": "code",
      "metadata": {
        "id": "k-DsYjTDKiGz",
        "colab_type": "code",
        "colab": {}
      },
      "source": [
        "pp_test = raw_test.map(lambda img, label: #### fill here ).shuffle(1024).batch(###)\n",
        "pp_val = raw_val.map(lambda img, label: #### fill here ).batch(###)\n",
        "pp_train = raw_train.map(lambda img, label: #### fill here ).batch(###)"
      ],
      "execution_count": 0,
      "outputs": []
    },
    {
      "cell_type": "markdown",
      "metadata": {
        "id": "QIv6RrCQ5cpW",
        "colab_type": "text"
      },
      "source": [
        "#### Display the examples from the dataset."
      ]
    },
    {
      "cell_type": "code",
      "metadata": {
        "id": "Kb4ghZjrC6Ua",
        "colab_type": "code",
        "colab": {}
      },
      "source": [
        "plt.figure(figsize=(10,10))\n",
        "for example in pp_train.take(1):  # Only take a single example\n",
        "  image, label = example[0], example[1]\n",
        "  plt.imshow(montage(image, multichannel=True))"
      ],
      "execution_count": 0,
      "outputs": []
    },
    {
      "cell_type": "markdown",
      "metadata": {
        "id": "RvwOaP184gSm",
        "colab_type": "text"
      },
      "source": [
        "### (20 pts) The Fully Connected Neural Network implementation"
      ]
    },
    {
      "cell_type": "markdown",
      "metadata": {
        "id": "5K6lLl2u5hhh",
        "colab_type": "text"
      },
      "source": [
        "#### It is a 4 layer (Fully Connected) Neural Network. The feature depths are [512,256,128] and last softmax layer has 38 output. Train for 10 epochs, with 0.001 learning rate and categorical cross entropy."
      ]
    },
    {
      "cell_type": "code",
      "metadata": {
        "id": "_0Ilk-67HKcG",
        "colab_type": "code",
        "colab": {}
      },
      "source": [
        "model = tf.keras.models.Sequential([\n",
        "  ### Flatten\n",
        "  ### Dense\n",
        "  ### Dense\n",
        "  ### Dense\n",
        "  ### Dense softmax\n",
        "])\n",
        "\n",
        "model.compile(\n",
        "    ### loss function sparse_categorical_crossentropy\n",
        "    ### Adam optimizer\n",
        "    ### metrics\n",
        ")\n",
        "\n",
        "history = model.fit(\n",
        "    pp_train,\n",
        "    epochs=10,\n",
        "    validation_data=pp_val,\n",
        ")"
      ],
      "execution_count": 0,
      "outputs": []
    },
    {
      "cell_type": "markdown",
      "metadata": {
        "id": "a0WOq7de6QjF",
        "colab_type": "text"
      },
      "source": [
        "#### Plot training & validation accuracy values"
      ]
    },
    {
      "cell_type": "code",
      "metadata": {
        "id": "CrZkIJbly_nu",
        "colab_type": "code",
        "colab": {}
      },
      "source": [
        "# Plot training & validation accuracy values\n",
        "plt.plot(history.history['accuracy'])\n",
        "plt.plot(history.history['val_accuracy'])\n",
        "plt.title('Model accuracy')\n",
        "plt.ylabel('Accuracy')\n",
        "plt.xlabel('Epoch')\n",
        "plt.legend(['Train', 'Validation'], loc='upper left')\n",
        "plt.show()\n",
        "\n",
        "# Plot training & validation loss values\n",
        "plt.plot(history.history['loss'])\n",
        "plt.plot(history.history['val_loss'])\n",
        "plt.title('Model loss')\n",
        "plt.ylabel('Loss')\n",
        "plt.xlabel('Epoch')\n",
        "plt.legend(['Train', 'Validation'], loc='upper left')\n",
        "plt.show()"
      ],
      "execution_count": 0,
      "outputs": []
    },
    {
      "cell_type": "markdown",
      "metadata": {
        "id": "czAztoW56UU7",
        "colab_type": "text"
      },
      "source": [
        "#### Calculate test set"
      ]
    },
    {
      "cell_type": "code",
      "metadata": {
        "id": "zegGwj61gd47",
        "colab_type": "code",
        "colab": {}
      },
      "source": [
        "# Evaluate the model on the test data using `evaluate`\n",
        "print('\\n# Evaluate on test data')\n",
        "results = model.evaluate(pp_test)\n",
        "print('test loss, test acc:', results)"
      ],
      "execution_count": 0,
      "outputs": []
    },
    {
      "cell_type": "markdown",
      "metadata": {
        "id": "5U1e-_Ml4qY0",
        "colab_type": "text"
      },
      "source": [
        "### (20 pts.) The Convolutional Neural Network implementation"
      ]
    },
    {
      "cell_type": "markdown",
      "metadata": {
        "id": "5VpO0fx56YVP",
        "colab_type": "text"
      },
      "source": [
        "#### It is a 4 layer Convolutional Neural Network. First two layers are Convolutional and last two layers are Fully Connected. The depths are [64,128,64] and the last softmax layer has 38 output. Train for 10 epochs, with 0.001 learning rate and categorical cross entropy."
      ]
    },
    {
      "cell_type": "code",
      "metadata": {
        "id": "l2YGiyB0BCr0",
        "colab_type": "code",
        "colab": {}
      },
      "source": [
        "model_cnn = tf.keras.models.Sequential([\n",
        "  ### Conv2D layer\n",
        "  ### MaxPooling2D layer\n",
        "  ### Conv2D layer\n",
        "  ### MaxPooling2D layer\n",
        "  ### Flatten\n",
        "  ### Dense\n",
        "  ### Dense softmax\n",
        "])\n",
        "\n",
        "model_cnn.compile(\n",
        "    ### loss function sparse_categorical_crossentropy\n",
        "    ### Adam optimizer\n",
        "    ### metrics\n",
        ")\n",
        "\n",
        "history_cnn = model_cnn.fit(\n",
        "    pp_train,\n",
        "    epochs=10,\n",
        "    validation_data=pp_val,\n",
        ")"
      ],
      "execution_count": 0,
      "outputs": []
    },
    {
      "cell_type": "markdown",
      "metadata": {
        "id": "sJJ-qk-I6vAj",
        "colab_type": "text"
      },
      "source": [
        "#### Plot training & validation accuracy values"
      ]
    },
    {
      "cell_type": "code",
      "metadata": {
        "id": "Z1Xx2OPNzApu",
        "colab_type": "code",
        "colab": {}
      },
      "source": [
        "# Plot training & validation accuracy values\n",
        "plt.plot(history_cnn.history['accuracy'])\n",
        "plt.plot(history_cnn.history['val_accuracy'])\n",
        "plt.title('Model accuracy')\n",
        "plt.ylabel('Accuracy')\n",
        "plt.xlabel('Epoch')\n",
        "plt.legend(['Train', 'Validation'], loc='upper left')\n",
        "plt.show()\n",
        "\n",
        "# Plot training & validation loss values\n",
        "plt.plot(history_cnn.history['loss'])\n",
        "plt.plot(history_cnn.history['val_loss'])\n",
        "plt.title('Model loss')\n",
        "plt.ylabel('Loss')\n",
        "plt.xlabel('Epoch')\n",
        "plt.legend(['Train', 'Validation'], loc='upper left')\n",
        "plt.show()"
      ],
      "execution_count": 0,
      "outputs": []
    },
    {
      "cell_type": "markdown",
      "metadata": {
        "id": "-Smb-oNX6yW9",
        "colab_type": "text"
      },
      "source": [
        "#### Calculate test set"
      ]
    },
    {
      "cell_type": "code",
      "metadata": {
        "id": "aZR-BtcGC6Xm",
        "colab_type": "code",
        "colab": {}
      },
      "source": [
        "# Evaluate the model on the test data using `evaluate`\n",
        "print('\\n# Evaluate on test data')\n",
        "results = model_cnn.evaluate(pp_test)\n",
        "print('test loss, test acc:', results)"
      ],
      "execution_count": 0,
      "outputs": []
    },
    {
      "cell_type": "code",
      "metadata": {
        "id": "ArSGrSQQ4buh",
        "colab_type": "code",
        "colab": {}
      },
      "source": [
        ""
      ],
      "execution_count": 0,
      "outputs": []
    }
  ]
}